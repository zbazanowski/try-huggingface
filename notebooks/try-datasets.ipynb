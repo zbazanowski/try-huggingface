{
 "cells": [
  {
   "cell_type": "markdown",
   "metadata": {},
   "source": [
    "# 🤗 HuggingFace Datasets\n",
    "\n",
    "HuggingFace provides the ability to interact with datasets dynamically. There is no need to pre-download large models and include them in a repository like this one. "
   ]
  },
  {
   "cell_type": "code",
   "execution_count": 1,
   "metadata": {},
   "outputs": [],
   "source": [
    "from datasets import load_dataset, list_datasets"
   ]
  },
  {
   "cell_type": "code",
   "execution_count": 4,
   "metadata": {},
   "outputs": [
    {
     "name": "stdout",
     "output_type": "stream",
     "text": [
      "131017\n",
      "{'code_x_glue_tc_text_to_code', 'numeric_fused_head', 'tanzil', 'fquad', 'turkish_movie_sentiment', 'doc2dial', 'xed_en_fi', 'finer', 'limit', 'sede', 'urdu_sentiment_corpus', 'imagenet_sketch', 'wiki_hop', 'brwac', 'labr', 'nell', 'wrbsc', 'msr_sqa', 'told-br', 'superb', 'style_change_detection', 'subjqa', 'metrec', 'afrikaans_ner_corpus', 'saudinewsnet', 'narrativeqa_manual', 'cornell_movie_dialog', 'eth_py150_open', 'mkqa', 'ollie', 'hope_edi', 'newsroom', 'german_legal_entity_recognition', 'ncslgr', 'weibo_ner', 'journalists_questions', 'bbc_hindi_nli', 'wider_face', 'mdd', 'pg19', 'math_dataset', 'inquisitive_qg', 'swahili', 'conll2003', 'mrqa', 'timit_asr', 'setimes', 'datacommons_factcheck', 'eu_regulatory_ir', 'medal', 'polyglot_ner', 'snow_simplified_japanese_corpus', 'thaisum', 'ilist', 'urdu_fake_news', 'cdsc', 'parsinlu_reading_comprehension', 'crd3', 'google_wellformed_query', 'ptb_text_only', 'bsd_ja_en', 'hlgd', 'wikiann', 'ajgt_twitter_ar', 'kor_nlu', 'wiki40b', 'code_x_glue_cc_cloze_testing_all', 'dialog_re', 'twi_text_c3', 'multi_woz_v22', 'biomrc', 'definite_pronoun_resolution', 'mc_taco', 'poleval2019_mt', 'um005', 'coached_conv_pref', 'ro_sts_parallel', 'covid_qa_ucsd', 'social_bias_frames', 'id_newspapers_2018', 'offenseval2020_tr', 'air_dialogue', 'igbo_ner', 'cawac', 'kor_qpair', 'reuters21578', 'acronym_identification', 'bing_coronavirus_query_set', 'cnn_dailymail', 'hate_speech_filipino', 'qed', 'scan', 'ecb', 'mkb', 'amazon_polarity', 'poleval2019_cyberbullying', 'siswati_ner_corpus', 'atomic', 'cbt', 'ronec', 'sem_eval_2018_task_1', 'ms_terms', 'xsum_factuality', 'qangaroo', 'scene_parse_150', 'multi_para_crawl', 'bprec', 'ccaligned_multilingual', 'matinf', 'stsb_mt_sv', 'wikihow', 'code_x_glue_cc_defect_detection', 'eduge', 'ett', 'guardian_authorship', 'quail', 'multilingual_librispeech', 'qa4mre', 'blended_skill_talk', 'openslr', 'emea', 'ohsumed', 'norec', 'vctk', 'casino', 'imagenet-1k', 'hindi_discourse', 'lc_quad', 'gigaword', 'swedish_reviews', 'sepedi_ner', 'textvqa', 'cryptonite', 'cmrc2018', 'numer_sense', 'reddit_tifu', 'proto_qa', 'wikisql', 'fashion_mnist', 'x_stance', 'yahoo_answers_qa', 'id_panl_bppt', 'igbo_monolingual', 'freebase_qa', 'cfq', 'masakhaner', 'sem_eval_2014_task_1', 'wino_bias', 'spc', 'myanmar_news', 'germeval_14', 'hkcancor', 'silicone', 'rotten_tomatoes', 'hate_speech18', 'wikicorpus', 'yoruba_gv_ner', 'swedish_medical_ner', 'bookcorpusopen', 'squad_kor_v2', 'coarse_discourse', 'kor_sae', 'multi_nli_mismatch', 'farsi_news', 'oscar', 'iapp_wiki_qa_squad', 'wiki_source', 'text2log', 'tunizi', 'swedish_ner_corpus', 'xcopa', 'multi_re_qa', 'schema_guided_dstc8', 'para_crawl', 'onestop_english', 'allegro_reviews', 'universal_morphologies', 'hotpot_qa', 'norwegian_ner', 'natural_questions', 'winogrande', 'counter', 'wiki_movies', 'conceptual_12m', 'xnli', 'elkarhizketak', 'miam', 'nlu_evaluation_data', 'metashift', 'conv_ai', 'the_pile_books3', 'ncbi_disease', 'hausa_voa_topics', 'tne', 'wiki_auto', 'scientific_papers', 'mocha', 'flores', 'roman_urdu_hate_speech', 'yelp_review_full', 'nsmc', 'conceptual_captions', 'allocine', 'code_x_glue_tc_nl_code_search_adv', 'wisesight1000', 'quora', 'pragmeval', 'reclor', 'kor_3i4k', 'art', 'wiki_lingua', 'c4', 'glucose', 'paws-x', 'tamilmixsentiment', 'scb_mt_enth_2020', 'bbaw_egyptian', 'squad_es', 'break_data', 'code_x_glue_cc_code_completion_token', 'tapaco', 'cdt', 'wiki_dpr', 'turkic_xwmt', 'catalonia_independence', 'woz_dialogue', 'peoples_daily_ner', 'billsum', 'sentiment140', 'open_subtitles', 'bookcorpus', 'roman_urdu', 'taskmaster3', 'large_spanish_corpus', 'cc100', 'nq_open', 'danish_political_comments', 'sem_eval_2010_task_8', 'arabic_billion_words', 'igbo_english_machine_translation', 'wiki_qa', 'lccc', 'hate_speech_pl', 'liveqa', 'nli_tr', 'id_nergrit_corpus', 'jeopardy', 'codah', 'disaster_response_messages', 'euronews', 'squad_v1_pt', 'head_qa', 'kde4', 'wiki_asp', 'wiki_snippets', 'wongnai_reviews', 'turkish_product_reviews', 'aslg_pc12', 'psc', 'hybrid_qa', 'ro_sts', 'tweets_hate_speech_detection', 'disfl_qa', 'assin2', 'hate_offensive', 'conllpp', 'best2009', 'esnli', 'tsac', 'doqa', 'ms_marco', 'wiki_atomic_edits', 'cmu_hinglish_dog', 'tlc', 'openai_humaneval', 'smartdata', 'ted_hrlr', 'flue', 'gem', 'wikitablequestions', 'so_stacksample', 'nchlt', 'ehealth_kd', 'sbu_captions', 'iwslt2017', 'paws', 'bc2gm_corpus', 'poem_sentiment', 'bn_hate_speech', 'selqa', 'enriched_web_nlg', 'harem', 'code_x_glue_tt_text_to_text', 'red_caps', 'tatoeba', 'cs_restaurants', 'consumer-finance-complaints', 'taskmaster1', 'polsum', 'riddle_sense', 'swahili_news', 'oclar', 'medical_dialog', 'samsum', 'tuple_ie', 'electricity_load_diagrams', 'hrenwac_para', 'offcombr', 'factckbr', 'xtreme', 'lener_br', 'polemo2', 'app_reviews', 'hatexplain', 'hrwac', 'orange_sum', 'grail_qa', 'senti_lex', 'sms_spam', 'gnad10', 'tweet_eval', 'kor_hate', 'craigslist_bargains', 'covid_qa_deepset', 'msr_text_compression', 'code_x_glue_cc_clone_detection_big_clone_bench', 'simple_questions_v2', 'generated_reviews_enth', 'covid_tweets_japanese', 'speech_commands', 'dengue_filipino', 'arsentd_lev', 'meta_woz', 'thaiqa_squad', 'zest', 'yoruba_text_c3', 'quac', 'circa', 'dutch_social', 'metooma', 'md_gender_bias', 'wikitext_tl39', 'asnq', 'bswac', 'librispeech_lm', 'swag', 'search_qa', 'imdb_urdu_reviews', 'amazon_us_reviews', 'europa_eac_tm', 'multi_news', 'dyk', 'math_qa', 'moroco', 'py_ast', 'isixhosa_ner_corpus', 'com_qa', 'ethos', 'yelp_polarity', 'curiosity_dialogs', 'twi_wordsim353', 'turku_ner_corpus', 'code_x_glue_cc_cloze_testing_maxmin', 'sem_eval_2020_task_11', 'muchocine', 'adv_glue', 'yahoo_answers_topics', 'eurlex', 'hyperpartisan_news_detection', 'imppres', 'm_lama', 'msr_zhen_translation_parity', 'giga_fren', 'telugu_books', 'enwik8', 'msr_genomics_kbcomp', 'conv_questions', 'cos_e', 'per_sent', 'sick', 'wikitext', 'wiqa', 'ascent_kb', 'squadshifts', 'pass', 'wisesight_sentiment', 'cedr', 'reasoning_bg', 'discovery', 'health_fact', 'prachathai67k', 'librispeech_asr', 'biwi_kinect_head_pose', 'ecthr_cases', 'id_liputan6', 'kor_nli', 'sanskrit_classic', 'qed_amara', 'fake_news_filipino', 'hebrew_this_world', 'opinosis', 'med_hop', 'sberquad', 'refresd', 'c3', 'docred', 'pn_summary', 'aquamuse', 'qa_zre', 'yoruba_wordsim353', 'hind_encorp', 'arxiv_dataset', 'pib', 'quarel', 'sogou_news', 'id_clickbait', 'universal_dependencies', 'hebrew_projectbenyehuda', 'narrativeqa', 'makhzan', 'id_puisi', 'web_questions', 'mwsc', 'assin', 'indic_glue', 'lj_speech', 'norne', 'quickdraw', 'sharc_modified', 'deal_or_no_dialog', 'web_of_science', 'thainer', 'ami', 'chr_en', 'arcd', 'nkjp-ner', 'gooaq', 'code_search_net', 'wi_locness', 'xor_tydi_qa', 'pec', 'yoruba_bbc_topics', 'conv_ai_2', 'onestop_qa', 'tab_fact', 'tweets_ar_en_parallel', 'crawl_domain', 'covost2', 'financial_phrasebank', 'newsph', 'thai_toxicity_tweet', 'offenseval_dravidian', 'wiki_summary', 'hate_speech_portuguese', 'squad_kor_v1', 'wnut_17', 'kilt_tasks', 'covid_qa_castorini', 'multi_booked', 'conv_ai_3', 'monash_tsf', 'amazon_reviews_multi', 'compguesswhat', 'multi_x_science_sum', 'wikipedia', 'eli5', 'mnist', 'conll2012_ontonotesv5', 'tep_en_fa_para', 'pubmed', 'the_pile_openwebtext2', 'wiki_bio', 'great_code', 'kan_hope', 'generics_kb', 'eli5_category', 'hans', 'ro_sent', 'snips_built_in_intents', 'tmu_gfm_dataset', 'jnlpba', 'bible_para', 'social_i_qa', 'kilt_wikipedia', 'tilde_model', 'klue', 'empathetic_dialogues', 'go_emotions', 'code_x_glue_cc_code_refinement', 'daily_dialog', 'caner', 'super_glue', 'para_pat', 'indonli', 'bigbench', 'persian_ner', 'senti_ws', 'kelm', 'wiki_split', 'aeslc', 'ted_talks_iwslt', 'xcsr', 'trec', 'gap', 'neural_code_search', 'lince', 'setswana_ner_corpus', 'ofis_publik', 'few_rel', 'mbpp', 'the_pile_stack_exchange', 'lst20', 'ubuntu_dialogs_corpus', 'cuad', 'kd_conv', 'ag_news', 'srwac', 'blog_authorship_corpus', 'dane', 'msra_ner', 'newsgroup', 'emo', 'e2e_nlg', 'crime_and_punish', 'wili_2018', 'fake_news_english', 'europa_ecdc_tm', 're_dial', 'autshumato', 'sst', 'germaner', 'liar', 'conceptnet5', 'species_800', 'common_voice', 'clickbait_news_bg', 'squad_it', 'sesotho_ner_corpus', 'turk', 'svhn', 'mac_morpho', 'sofc_materials_articles', 'laroseda', 'mc4', 'recipe_nlg', 'xglue', 'fever', 'ade_corpus_v2', 'vivos', 'common_language', 'discofuse', 'udhr', 'interpress_news_category_tr', 'cats_vs_dogs', 'gsm8k', 'hausa_voa_ner', 'crows_pairs', 'dream', 'cifar10', 'tydiqa', 'dbrd', 'bnl_newspapers', 'clinc_oos', 'ted_iwlst2013', 'mt_eng_vietnamese', 'omp', 'kor_ner', 'ted_multi', 'hda_nli_hindi', 'movie_rationales', 'ar_res_reviews', 'tweet_qa', 'conll2002', 'event2Mind', 'aqua_rat', 'visual_genome', 'interpress_news_category_tr_lite', 'big_patent', 'lm1b', 'kinnews_kirnews', 'isizulu_ner_corpus', 'spanish_billion_words', 'tashkeela', 'lama', 'times_of_india_news_headlines', 'piqa', 'qa_srl', 'code_x_glue_cc_code_to_code_trans', 'biosses', 'kor_sarcasm', 'scielo', 'menyo20k_mt', 'hard', 'telugu_news', 'diplomacy_detection', 'winograd_wsc', 'ar_sarcasm', 'mlqa', 'newsph_nli', 'code_x_glue_ct_code_to_text', 'evidence_infer_treatment', 'food101', 'linnaeus', 'newspop', 'time_dial', 'gutenberg_time', 'sent_comp', 'ambig_qa', 'cosmos_qa', 'hippocorpus', 'code_x_glue_cc_clone_detection_poj104', 'mutual_friends', 'turkish_ner', 'amttl', 'emotone_ar', 'e2e_nlg_cleaned', 'totto', 'truthful_qa', 'hover', 'cppe-5', 'story_cloze', 'medical_questions_pairs', 'arabic_speech_corpus', 'dart', 'newsqa', 'mlsum', 'wiki_qa_ar', 'web_nlg', 'turkish_shrinked_ner', 'cifar100', 'taskmaster2', 'code_x_glue_cc_code_completion_line', 'swda', 'humicroedit', 'quoref', 'irc_disentangle', 'has_part', 'alt', 'clue', 'multidoc2dial', 'squad_adversarial', 'ttc4900', 'hansards', 'kannada_news', 'cail2018', 'php', 'climate_fever', 'hebrew_sentiment', 'arabic_pos_dialect', 'eraser_multi_rc', 'youtube_caption_corrections', 'xquad_r', 'xquad', 'conll2000', 'banking77', 'qanta'}\n"
     ]
    }
   ],
   "source": [
    "# Explore available datasets\n",
    "available = list_datasets()\n",
    "print(len(available))\n",
    "print({i for i in available if '/' not in i})"
   ]
  },
  {
   "cell_type": "code",
   "execution_count": null,
   "metadata": {},
   "outputs": [],
   "source": [
    "available"
   ]
  },
  {
   "cell_type": "code",
   "execution_count": 5,
   "metadata": {},
   "outputs": [
    {
     "name": "stderr",
     "output_type": "stream",
     "text": [
      "Using custom data configuration default\n",
      "Reusing dataset movie_rationales (/home/vscode/.cache/huggingface/datasets/movie_rationales/default/0.1.0/70ed6b72496c90835e8ee73ebf8d0e49f5ad3aa93f302c8a4b6c886143cfb779)\n"
     ]
    },
    {
     "data": {
      "application/vnd.jupyter.widget-view+json": {
       "model_id": "9fc7e49b179341b1b0a362265242406a",
       "version_major": 2,
       "version_minor": 0
      },
      "text/plain": [
       "  0%|          | 0/3 [00:00<?, ?it/s]"
      ]
     },
     "metadata": {},
     "output_type": "display_data"
    }
   ],
   "source": [
    "# load the dataset dynamically by passing the name. \n",
    "movie_rationales = load_dataset(\"movie_rationales\")"
   ]
  },
  {
   "cell_type": "code",
   "execution_count": 7,
   "metadata": {},
   "outputs": [
    {
     "data": {
      "text/plain": [
       "DatasetDict({\n",
       "    train: Dataset({\n",
       "        features: ['review', 'label', 'evidences'],\n",
       "        num_rows: 1600\n",
       "    })\n",
       "    validation: Dataset({\n",
       "        features: ['review', 'label', 'evidences'],\n",
       "        num_rows: 200\n",
       "    })\n",
       "    test: Dataset({\n",
       "        features: ['review', 'label', 'evidences'],\n",
       "        num_rows: 199\n",
       "    })\n",
       "})"
      ]
     },
     "execution_count": 7,
     "metadata": {},
     "output_type": "execute_result"
    }
   ],
   "source": [
    "# The object is a dict-like mapping of actual datasets\n",
    "movie_rationales"
   ]
  },
  {
   "cell_type": "code",
   "execution_count": 8,
   "metadata": {},
   "outputs": [
    {
     "data": {
      "text/plain": [
       "Dataset({\n",
       "    features: ['review', 'label', 'evidences'],\n",
       "    num_rows: 1600\n",
       "})"
      ]
     },
     "execution_count": 8,
     "metadata": {},
     "output_type": "execute_result"
    }
   ],
   "source": [
    "movie_rationales['train']"
   ]
  },
  {
   "cell_type": "code",
   "execution_count": 9,
   "metadata": {},
   "outputs": [],
   "source": [
    "# Select the \"train\" dataset and then port it to pandas\n",
    "train = movie_rationales[\"train\"]\n",
    "df = train.to_pandas()"
   ]
  },
  {
   "cell_type": "code",
   "execution_count": 10,
   "metadata": {},
   "outputs": [
    {
     "data": {
      "text/html": [
       "<div>\n",
       "<style scoped>\n",
       "    .dataframe tbody tr th:only-of-type {\n",
       "        vertical-align: middle;\n",
       "    }\n",
       "\n",
       "    .dataframe tbody tr th {\n",
       "        vertical-align: top;\n",
       "    }\n",
       "\n",
       "    .dataframe thead th {\n",
       "        text-align: right;\n",
       "    }\n",
       "</style>\n",
       "<table border=\"1\" class=\"dataframe\">\n",
       "  <thead>\n",
       "    <tr style=\"text-align: right;\">\n",
       "      <th></th>\n",
       "      <th>label</th>\n",
       "    </tr>\n",
       "  </thead>\n",
       "  <tbody>\n",
       "    <tr>\n",
       "      <th>count</th>\n",
       "      <td>1600.000000</td>\n",
       "    </tr>\n",
       "    <tr>\n",
       "      <th>mean</th>\n",
       "      <td>0.500000</td>\n",
       "    </tr>\n",
       "    <tr>\n",
       "      <th>std</th>\n",
       "      <td>0.500156</td>\n",
       "    </tr>\n",
       "    <tr>\n",
       "      <th>min</th>\n",
       "      <td>0.000000</td>\n",
       "    </tr>\n",
       "    <tr>\n",
       "      <th>25%</th>\n",
       "      <td>0.000000</td>\n",
       "    </tr>\n",
       "    <tr>\n",
       "      <th>50%</th>\n",
       "      <td>0.500000</td>\n",
       "    </tr>\n",
       "    <tr>\n",
       "      <th>75%</th>\n",
       "      <td>1.000000</td>\n",
       "    </tr>\n",
       "    <tr>\n",
       "      <th>max</th>\n",
       "      <td>1.000000</td>\n",
       "    </tr>\n",
       "  </tbody>\n",
       "</table>\n",
       "</div>"
      ],
      "text/plain": [
       "             label\n",
       "count  1600.000000\n",
       "mean      0.500000\n",
       "std       0.500156\n",
       "min       0.000000\n",
       "25%       0.000000\n",
       "50%       0.500000\n",
       "75%       1.000000\n",
       "max       1.000000"
      ]
     },
     "execution_count": 10,
     "metadata": {},
     "output_type": "execute_result"
    }
   ],
   "source": [
    "df.describe()"
   ]
  },
  {
   "cell_type": "code",
   "execution_count": 11,
   "metadata": {},
   "outputs": [
    {
     "data": {
      "text/html": [
       "<div>\n",
       "<style scoped>\n",
       "    .dataframe tbody tr th:only-of-type {\n",
       "        vertical-align: middle;\n",
       "    }\n",
       "\n",
       "    .dataframe tbody tr th {\n",
       "        vertical-align: top;\n",
       "    }\n",
       "\n",
       "    .dataframe thead th {\n",
       "        text-align: right;\n",
       "    }\n",
       "</style>\n",
       "<table border=\"1\" class=\"dataframe\">\n",
       "  <thead>\n",
       "    <tr style=\"text-align: right;\">\n",
       "      <th></th>\n",
       "      <th>review</th>\n",
       "      <th>label</th>\n",
       "      <th>evidences</th>\n",
       "    </tr>\n",
       "  </thead>\n",
       "  <tbody>\n",
       "    <tr>\n",
       "      <th>0</th>\n",
       "      <td>plot : two teen couples go to a church party ,...</td>\n",
       "      <td>0</td>\n",
       "      <td>[mind - fuck movie, the sad part is, downshift...</td>\n",
       "    </tr>\n",
       "    <tr>\n",
       "      <th>1</th>\n",
       "      <td>the happy bastard 's quick movie review damn\\n...</td>\n",
       "      <td>0</td>\n",
       "      <td>[it 's pretty much a sunken ship, sutherland i...</td>\n",
       "    </tr>\n",
       "    <tr>\n",
       "      <th>2</th>\n",
       "      <td>it is movies like these that make a jaded movi...</td>\n",
       "      <td>0</td>\n",
       "      <td>[the characters and acting is nothing spectacu...</td>\n",
       "    </tr>\n",
       "    <tr>\n",
       "      <th>3</th>\n",
       "      <td>\" quest for camelot \" is warner bros . '\\nfirs...</td>\n",
       "      <td>0</td>\n",
       "      <td>[dead on arrival, the characters stink, subpar...</td>\n",
       "    </tr>\n",
       "    <tr>\n",
       "      <th>4</th>\n",
       "      <td>synopsis : a mentally unstable man undergoing ...</td>\n",
       "      <td>0</td>\n",
       "      <td>[it is highly derivative and somewhat boring, ...</td>\n",
       "    </tr>\n",
       "    <tr>\n",
       "      <th>...</th>\n",
       "      <td>...</td>\n",
       "      <td>...</td>\n",
       "      <td>...</td>\n",
       "    </tr>\n",
       "    <tr>\n",
       "      <th>1595</th>\n",
       "      <td>the central focus of michael winterbottom 's \"...</td>\n",
       "      <td>1</td>\n",
       "      <td>[emerging as the definite face of independent ...</td>\n",
       "    </tr>\n",
       "    <tr>\n",
       "      <th>1596</th>\n",
       "      <td>after the average mouse hunt , the silly small...</td>\n",
       "      <td>1</td>\n",
       "      <td>[a visual and aural treat , backed up with a g...</td>\n",
       "    </tr>\n",
       "    <tr>\n",
       "      <th>1597</th>\n",
       "      <td>i have seen several ( but not that many )\\nwoo...</td>\n",
       "      <td>1</td>\n",
       "      <td>[this movie is so infectious . and funny ! and...</td>\n",
       "    </tr>\n",
       "    <tr>\n",
       "      <th>1598</th>\n",
       "      <td>fritz lang 's first american film since leavin...</td>\n",
       "      <td>1</td>\n",
       "      <td>[powerfully done, an eye - opener]</td>\n",
       "    </tr>\n",
       "    <tr>\n",
       "      <th>1599</th>\n",
       "      <td>veteran actor clint eastwood has never looked ...</td>\n",
       "      <td>1</td>\n",
       "      <td>[a thoughtful human story, hands down , the mo...</td>\n",
       "    </tr>\n",
       "  </tbody>\n",
       "</table>\n",
       "<p>1600 rows × 3 columns</p>\n",
       "</div>"
      ],
      "text/plain": [
       "                                                 review  label  \\\n",
       "0     plot : two teen couples go to a church party ,...      0   \n",
       "1     the happy bastard 's quick movie review damn\\n...      0   \n",
       "2     it is movies like these that make a jaded movi...      0   \n",
       "3     \" quest for camelot \" is warner bros . '\\nfirs...      0   \n",
       "4     synopsis : a mentally unstable man undergoing ...      0   \n",
       "...                                                 ...    ...   \n",
       "1595  the central focus of michael winterbottom 's \"...      1   \n",
       "1596  after the average mouse hunt , the silly small...      1   \n",
       "1597  i have seen several ( but not that many )\\nwoo...      1   \n",
       "1598  fritz lang 's first american film since leavin...      1   \n",
       "1599  veteran actor clint eastwood has never looked ...      1   \n",
       "\n",
       "                                              evidences  \n",
       "0     [mind - fuck movie, the sad part is, downshift...  \n",
       "1     [it 's pretty much a sunken ship, sutherland i...  \n",
       "2     [the characters and acting is nothing spectacu...  \n",
       "3     [dead on arrival, the characters stink, subpar...  \n",
       "4     [it is highly derivative and somewhat boring, ...  \n",
       "...                                                 ...  \n",
       "1595  [emerging as the definite face of independent ...  \n",
       "1596  [a visual and aural treat , backed up with a g...  \n",
       "1597  [this movie is so infectious . and funny ! and...  \n",
       "1598                 [powerfully done, an eye - opener]  \n",
       "1599  [a thoughtful human story, hands down , the mo...  \n",
       "\n",
       "[1600 rows x 3 columns]"
      ]
     },
     "execution_count": 11,
     "metadata": {},
     "output_type": "execute_result"
    }
   ],
   "source": [
    "df"
   ]
  }
 ],
 "metadata": {
  "kernelspec": {
   "display_name": "Python 3.9.13 ('huggingface')",
   "language": "python",
   "name": "python3"
  },
  "language_info": {
   "codemirror_mode": {
    "name": "ipython",
    "version": 3
   },
   "file_extension": ".py",
   "mimetype": "text/x-python",
   "name": "python",
   "nbconvert_exporter": "python",
   "pygments_lexer": "ipython3",
   "version": "3.8.17"
  },
  "orig_nbformat": 4,
  "vscode": {
   "interpreter": {
    "hash": "920d5173f2c6743f2c8a5baff36bfaa747ac4cb3d34512c636ba17b43fdf31dc"
   }
  }
 },
 "nbformat": 4,
 "nbformat_minor": 2
}
